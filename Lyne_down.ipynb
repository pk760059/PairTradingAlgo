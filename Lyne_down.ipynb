{
 "cells": [
  {
   "cell_type": "code",
   "execution_count": 1,
   "metadata": {},
   "outputs": [],
   "source": [
    "import cv2\n",
    "import numpy as np\n",
    "import pyautogui\n",
    "import time"
   ]
  },
  {
   "cell_type": "code",
   "execution_count": 2,
   "metadata": {},
   "outputs": [],
   "source": [
    "def is_logo_on_screen(threshold=0.7):\n",
    "    # Take a screenshot using pyautogui\n",
    "    screenshot = pyautogui.screenshot()\n",
    "    # Convert the screenshot to a format OpenCV can work with\n",
    "    screenshot = cv2.cvtColor(np.array(screenshot), cv2.COLOR_RGB2BGR)\n",
    "    \n",
    "    # Load the logo image\n",
    "    logo_image_path = 'lning.png'\n",
    "    logo_image = cv2.imread(logo_image_path)\n",
    "    \n",
    "    # Convert images to grayscale\n",
    "    screenshot_gray = cv2.cvtColor(screenshot, cv2.COLOR_BGR2GRAY)\n",
    "    logo_gray = cv2.cvtColor(logo_image, cv2.COLOR_BGR2GRAY)\n",
    "    \n",
    "    # Apply template matching\n",
    "    result = cv2.matchTemplate(screenshot_gray, logo_gray, cv2.TM_CCOEFF_NORMED)\n",
    "    \n",
    "    # Get the locations where the matched value is above the threshold\n",
    "    locations = np.where(result >= threshold)\n",
    "    \n",
    "    # Return True if we found any matches, otherwise False\n",
    "    return len(locations[0]) > 0"
   ]
  },
  {
   "cell_type": "code",
   "execution_count": 28,
   "metadata": {},
   "outputs": [
    {
     "name": "stdout",
     "output_type": "stream",
     "text": [
      "yes\n"
     ]
    }
   ],
   "source": [
    "# Example usage\n",
    "time.sleep(3)\n",
    "found = is_logo_on_screen()\n",
    "\n",
    "if found:\n",
    "    print('yes')\n",
    "else:\n",
    "    print(\"No\")"
   ]
  },
  {
   "cell_type": "code",
   "execution_count": 3,
   "metadata": {},
   "outputs": [],
   "source": [
    "def opener():\n",
    "    pyautogui.hotkey('ctrl', 'c')\n",
    "    pyautogui.hotkey('ctrl', 'c')\n",
    "    pyautogui.hotkey('ctrl', 'c')\n",
    "    pyautogui.hotkey('ctrl', 'tab')\n",
    "    pyautogui.moveTo(1522, 145, 0.1)\n",
    "    pyautogui.click()\n",
    "    pyautogui.hotkey('ctrl', 'v')\n",
    "    time.sleep(0.5)\n",
    "    pyautogui.moveTo(1345, 328, 0.5)\n",
    "    pyautogui.click()"
   ]
  },
  {
   "cell_type": "code",
   "execution_count": null,
   "metadata": {},
   "outputs": [],
   "source": [
    "time.sleep(2)\n",
    "opener()"
   ]
  },
  {
   "cell_type": "code",
   "execution_count": 23,
   "metadata": {},
   "outputs": [],
   "source": [
    "def dwn():\n",
    "\n",
    "    time.sleep(1)\n",
    "    pyautogui.moveTo(1209,682, 0.5)\n",
    "    pyautogui.click()\n",
    "    time.sleep(1.5)\n",
    "    pyautogui.moveTo(1620,283, 0.5)\n",
    "    pyautogui.click()\n",
    "    pyautogui.moveTo(1535,575, 0.5)\n",
    "    pyautogui.click()\n",
    "    time.sleep(1)\n",
    "    #folder\n",
    "    pyautogui.hotkey('ctrl', 'l')\n",
    "    pyautogui.typewrite(r\"C:\\Users\\acer\\Downloads\\trash\\New Trash\")\n",
    "    pyautogui.hotkey('enter')\n",
    "    pyautogui.hotkey('ctrl', 'shift','n')\n",
    "    time.sleep(0.5)\n",
    "    pyautogui.hotkey('ctrl', 'v')\n",
    "    pyautogui.hotkey('enter')\n",
    "    pyautogui.hotkey('enter')\n",
    "    pyautogui.moveTo(247, 466,0.5)\n",
    "    pyautogui.click()\n",
    "    time.sleep(0.5)\n",
    "\n",
    "    pyautogui.hotkey('ctrl', 'v')\n",
    "    pyautogui.typewrite(\"Momentum_Score.csv\")\n",
    "    time.sleep(1)\n",
    "    time.sleep(0.5)\n",
    "    pyautogui.hotkey('enter')\n",
    "    time.sleep(0.5)\n",
    "    pyautogui.moveTo(1644,204, 0.5)\n",
    "    pyautogui.click()\n",
    "\n",
    "    time.sleep(1)\n",
    "    pyautogui.moveTo(789,678, 0.5)\n",
    "    pyautogui.click()\n",
    "    time.sleep(0.5)\n",
    "    pyautogui.moveTo(1620,283, 0.5)\n",
    "    pyautogui.click()\n",
    "    pyautogui.moveTo(1535,575, 0.5)\n",
    "    pyautogui.click()\n",
    "    time.sleep(0.5)\n",
    "    pyautogui.hotkey('ctrl', 'v')\n",
    "    pyautogui.typewrite(\"Valuation_Score.csv\")\n",
    "    pyautogui.hotkey('enter')\n",
    "    time.sleep(0.5)\n",
    "    pyautogui.moveTo(1644,204, 0.5)\n",
    "    pyautogui.click()\n",
    "\n",
    "    time.sleep(0.5)\n",
    "    pyautogui.moveTo(394,684, 0.5)\n",
    "    pyautogui.click()\n",
    "    time.sleep(1)\n",
    "    pyautogui.moveTo(1620,283, 0.5)\n",
    "    pyautogui.click()\n",
    "    pyautogui.moveTo(1535,575, 0.5)\n",
    "    pyautogui.click()\n",
    "    time.sleep(0.5)\n",
    "    pyautogui.hotkey('ctrl', 'v')\n",
    "    pyautogui.typewrite(\"Durability_score.csv\")\n",
    "    pyautogui.hotkey('enter')\n",
    "    time.sleep(0.5)\n",
    "    pyautogui.moveTo(1644,204, 0.5)\n",
    "    pyautogui.click()\n",
    "    \n",
    "    pyautogui.hotkey('ctrl','tab')\n",
    "    pyautogui.hotkey('down')"
   ]
  },
  {
   "cell_type": "code",
   "execution_count": 31,
   "metadata": {},
   "outputs": [],
   "source": [
    "time.sleep(2)\n",
    "# dwn()\n",
    "pyautogui.moveTo(1209,740, 0.5)"
   ]
  },
  {
   "cell_type": "code",
   "execution_count": 32,
   "metadata": {},
   "outputs": [],
   "source": [
    "# there is a issue in ADANIENT"
   ]
  },
  {
   "cell_type": "code",
   "execution_count": 41,
   "metadata": {},
   "outputs": [],
   "source": [
    "def dwn2():\n",
    "\n",
    "    time.sleep(1)\n",
    "    pyautogui.moveTo(1209,740, 0.5)\n",
    "    pyautogui.click()\n",
    "    time.sleep(1.5)\n",
    "    pyautogui.moveTo(1620,283, 0.5)\n",
    "    pyautogui.click()\n",
    "    time.sleep(0.5)\n",
    "    pyautogui.moveTo(1535,575, 0.5)\n",
    "    pyautogui.click()\n",
    "    time.sleep(1)\n",
    "    #folder\n",
    "    pyautogui.hotkey('ctrl', 'l')\n",
    "    pyautogui.typewrite(r\"C:\\Users\\acer\\Downloads\\trash\\New Trash\")\n",
    "    pyautogui.hotkey('enter')\n",
    "    pyautogui.hotkey('ctrl', 'shift','n')\n",
    "    time.sleep(0.5)\n",
    "    pyautogui.hotkey('ctrl', 'v')\n",
    "    time.sleep(0.5)\n",
    "    pyautogui.hotkey('enter')\n",
    "    time.sleep(0.5)\n",
    "    pyautogui.hotkey('enter')\n",
    "    time.sleep(0.5)\n",
    "    pyautogui.moveTo(247, 466,0.5)\n",
    "    pyautogui.click()\n",
    "    time.sleep(0.5)\n",
    "    \n",
    "    \n",
    "    \n",
    "    pyautogui.hotkey('ctrl', 'v')\n",
    "    pyautogui.typewrite(\"Momentum_Score.csv\")\n",
    "    time.sleep(1)\n",
    "    pyautogui.hotkey('enter')\n",
    "    time.sleep(0.5)\n",
    "    pyautogui.moveTo(1644,204, 0.5)\n",
    "    pyautogui.click()\n",
    "\n",
    "    time.sleep(0.5)\n",
    "    pyautogui.moveTo(787,744, 0.5)\n",
    "    pyautogui.click()\n",
    "    time.sleep(0.5)\n",
    "    pyautogui.moveTo(1620,283, 0.5)\n",
    "    pyautogui.click()\n",
    "    pyautogui.moveTo(1535,575, 0.5)\n",
    "    pyautogui.click()\n",
    "    time.sleep(0.5)\n",
    "    pyautogui.hotkey('ctrl', 'v')\n",
    "    pyautogui.typewrite(\"Valuation_Score.csv\")\n",
    "    pyautogui.hotkey('enter')\n",
    "    time.sleep(0.5)\n",
    "    pyautogui.moveTo(1644,204, 0.5)\n",
    "    pyautogui.click()\n",
    "\n",
    "    time.sleep(0.5)\n",
    "    pyautogui.moveTo(394,742, 0.5)\n",
    "    pyautogui.click()\n",
    "    time.sleep(0.5)\n",
    "    pyautogui.moveTo(1620,283, 0.5)\n",
    "    pyautogui.click()\n",
    "    pyautogui.moveTo(1535,575, 0.5)\n",
    "    pyautogui.click()\n",
    "    time.sleep(0.5)\n",
    "    pyautogui.hotkey('ctrl', 'v')\n",
    "    pyautogui.typewrite(\"Durability_score.csv\")\n",
    "    pyautogui.hotkey('enter')\n",
    "    time.sleep(0.5)\n",
    "    pyautogui.moveTo(1644,204, 0.5)\n",
    "    pyautogui.click()\n",
    "    \n",
    "    pyautogui.hotkey('ctrl','tab')\n",
    "    pyautogui.hotkey('down')"
   ]
  },
  {
   "cell_type": "code",
   "execution_count": 42,
   "metadata": {},
   "outputs": [],
   "source": [
    "time.sleep(2)\n",
    "dwn2()"
   ]
  },
  {
   "cell_type": "code",
   "execution_count": null,
   "metadata": {},
   "outputs": [],
   "source": [
    "# time.sleep(3)\n",
    "# dwn2()"
   ]
  },
  {
   "cell_type": "code",
   "execution_count": null,
   "metadata": {},
   "outputs": [],
   "source": [
    "# def opener2():\n",
    "#     pyautogui.hotkey('down')\n",
    "#     pyautogui.hotkey('ctrl', 'c')\n",
    "#     pyautogui.hotkey('ctrl', 'c')\n",
    "#     pyautogui.hotkey('ctrl', 'c')\n",
    "#     pyautogui.hotkey('ctrl', 'tab')\n",
    "#     pyautogui.moveTo(1522, 145, 0.1)\n",
    "#     pyautogui.click()\n",
    "#     pyautogui.hotkey('ctrl', 'v')\n",
    "#     time.sleep(0.5)\n",
    "#     pyautogui.moveTo(1345, 328, 0.5)\n",
    "#     pyautogui.click()"
   ]
  },
  {
   "cell_type": "code",
   "execution_count": 9,
   "metadata": {},
   "outputs": [],
   "source": [
    "def prime(x):\n",
    "    for i in range(x):\n",
    "        opener()\n",
    "        time.sleep(1.5)\n",
    "        found = is_logo_on_screen()\n",
    "\n",
    "        if found:\n",
    "            print('Advice detected')\n",
    "            # pyautogui.hotkey('ctrl', 'tab')\n",
    "            dwn2()\n",
    "        else:\n",
    "            print('Normal')\n",
    "            # pyautogui.hotkey('ctrl', 'tab')\n",
    "            dwn()"
   ]
  },
  {
   "cell_type": "code",
   "execution_count": 10,
   "metadata": {},
   "outputs": [
    {
     "name": "stdout",
     "output_type": "stream",
     "text": [
      "Normal\n"
     ]
    }
   ],
   "source": [
    "time.sleep(3)\n",
    "prime(1)"
   ]
  },
  {
   "cell_type": "code",
   "execution_count": 18,
   "metadata": {},
   "outputs": [
    {
     "name": "stdout",
     "output_type": "stream",
     "text": [
      "247 466\n"
     ]
    }
   ],
   "source": [
    "time.sleep(3)\n",
    "x, y = pyautogui.position()\n",
    "print(x,y)"
   ]
  },
  {
   "cell_type": "code",
   "execution_count": 19,
   "metadata": {},
   "outputs": [],
   "source": [
    "time.sleep(2)\n",
    "pyautogui.moveTo(247, 466,0.5)"
   ]
  },
  {
   "cell_type": "code",
   "execution_count": null,
   "metadata": {},
   "outputs": [],
   "source": [
    "import os\n",
    "import pandas as pd"
   ]
  },
  {
   "cell_type": "code",
   "execution_count": 11,
   "metadata": {},
   "outputs": [],
   "source": [
    "import pyperclip"
   ]
  },
  {
   "cell_type": "code",
   "execution_count": 12,
   "metadata": {},
   "outputs": [
    {
     "data": {
      "text/plain": [
       "'pyperclip'"
      ]
     },
     "execution_count": 12,
     "metadata": {},
     "output_type": "execute_result"
    }
   ],
   "source": [
    "var=pyperclip.paste().strip()\n",
    "var"
   ]
  },
  {
   "cell_type": "code",
   "execution_count": null,
   "metadata": {},
   "outputs": [],
   "source": [
    "\n",
    "def list_files_and_folders(directory):\n",
    "    # List to store file and folder names\n",
    "    names = []\n",
    "\n",
    "    # Walk through directory\n",
    "    for root, dirs, files in os.walk(directory):\n",
    "        for name in dirs:\n",
    "            names.append({\"Type\": \"Folder\", \"Name\": name})\n",
    "        for name in files:\n",
    "            names.append({\"Type\": \"File\", \"Name\": name})\n",
    "\n",
    "    # Create a DataFrame\n",
    "    df = pd.DataFrame(names)\n",
    "    return df\n",
    "\n",
    "# Specify the directory you want to access\n",
    "directory = r'C:\\Users\\acer\\Downloads\\trash'\n",
    "\n",
    "# Get the DataFrame\n",
    "df = list_files_and_folders(directory)\n",
    "\n",
    "# Save DataFrame to a CSV file\n",
    "df.to_csv('file_and_folder_names.csv', index=False)\n",
    "\n",
    "# Display the DataFrame\n",
    "print(df)\n"
   ]
  },
  {
   "cell_type": "code",
   "execution_count": null,
   "metadata": {},
   "outputs": [],
   "source": [
    "def modify_names(df):\n",
    "    # Terms to remove from file names\n",
    "    terms_to_remove = [\"Durability_score.csv\", \"Momentum_Score.csv\", \"Valuation_Score.csv\"]\n",
    "\n",
    "    # Function to remove terms from file names\n",
    "    def remove_terms(file_name):\n",
    "        for term in terms_to_remove:\n",
    "            if term in file_name:\n",
    "                file_name = file_name.replace(term, \"\").strip('_')\n",
    "        return file_name\n",
    "\n",
    "    # Apply the function to the 'Name' column to create a new 'Modified Name' column\n",
    "    df['Modified Name'] = df['Name'].apply(remove_terms)\n",
    "    return df"
   ]
  },
  {
   "cell_type": "code",
   "execution_count": null,
   "metadata": {},
   "outputs": [],
   "source": [
    "import re\n",
    "\n",
    "def modify_names_with_re(df):\n",
    "    # Patterns to remove from file names\n",
    "    patterns_to_remove = [\"Durability_score.csv\", \"Momentum_Score.csv\", \"Valuation_Score.csv\"]\n",
    "\n",
    "    # Compile the regex pattern\n",
    "    combined_pattern = '|'.join(map(re.escape, patterns_to_remove))\n",
    "\n",
    "    # Function to remove patterns from file names using regex\n",
    "    def remove_patterns(file_name):\n",
    "        return re.sub(combined_pattern, \"\", file_name).strip('_')\n",
    "\n",
    "    # Apply the function to the 'Name' column to create a new 'Modified Name' column\n",
    "    df['Modified Name'] = df['Name'].apply(remove_patterns)\n",
    "    return df"
   ]
  },
  {
   "cell_type": "code",
   "execution_count": null,
   "metadata": {},
   "outputs": [],
   "source": [
    "df2 = modify_names_with_re(df)\n",
    "df2"
   ]
  },
  {
   "cell_type": "code",
   "execution_count": null,
   "metadata": {},
   "outputs": [],
   "source": [
    "# df = modify_names(df)"
   ]
  },
  {
   "cell_type": "code",
   "execution_count": null,
   "metadata": {},
   "outputs": [],
   "source": [
    "df2.to_csv('file_names.csv', index=False)"
   ]
  },
  {
   "cell_type": "code",
   "execution_count": null,
   "metadata": {},
   "outputs": [],
   "source": []
  }
 ],
 "metadata": {
  "kernelspec": {
   "display_name": "Python 3",
   "language": "python",
   "name": "python3"
  },
  "language_info": {
   "codemirror_mode": {
    "name": "ipython",
    "version": 3
   },
   "file_extension": ".py",
   "mimetype": "text/x-python",
   "name": "python",
   "nbconvert_exporter": "python",
   "pygments_lexer": "ipython3",
   "version": "3.11.4"
  }
 },
 "nbformat": 4,
 "nbformat_minor": 2
}
