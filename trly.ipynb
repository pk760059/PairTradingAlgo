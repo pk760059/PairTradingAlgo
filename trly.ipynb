{
 "cells": [
  {
   "cell_type": "code",
   "execution_count": 1,
   "metadata": {},
   "outputs": [],
   "source": [
    "import numpy as np\n",
    "import pandas as pd"
   ]
  },
  {
   "cell_type": "code",
   "execution_count": 3,
   "metadata": {},
   "outputs": [],
   "source": [
    "df=pd.read_csv(r'C:\\Users\\acer\\Desktop\\Py-Fin\\Fin_data\\Fin_data\\Data\\SharpeRatio\\new\\DRREDDY__GLENMARK.csv')"
   ]
  },
  {
   "cell_type": "code",
   "execution_count": 10,
   "metadata": {},
   "outputs": [
    {
     "data": {
      "text/plain": [
       "'DRREDDY'"
      ]
     },
     "execution_count": 10,
     "metadata": {},
     "output_type": "execute_result"
    }
   ],
   "source": [
    "tn=df.columns[2]\n",
    "tn[:-5]"
   ]
  },
  {
   "cell_type": "code",
   "execution_count": 11,
   "metadata": {},
   "outputs": [],
   "source": [
    "cname=tn[:-5]"
   ]
  },
  {
   "cell_type": "code",
   "execution_count": 14,
   "metadata": {},
   "outputs": [
    {
     "data": {
      "text/plain": [
       "0      2023-07-03\n",
       "1      2023-07-04\n",
       "2      2023-07-05\n",
       "3      2023-07-06\n",
       "4      2023-07-07\n",
       "          ...    \n",
       "241    2024-06-27\n",
       "242    2024-06-28\n",
       "243    2024-07-01\n",
       "244    2024-07-02\n",
       "245    2024-07-03\n",
       "Name: Dates, Length: 246, dtype: object"
      ]
     },
     "execution_count": 14,
     "metadata": {},
     "output_type": "execute_result"
    }
   ],
   "source": [
    "df['Dates']"
   ]
  },
  {
   "cell_type": "code",
   "execution_count": 12,
   "metadata": {},
   "outputs": [
    {
     "data": {
      "text/html": [
       "<div>\n",
       "<style scoped>\n",
       "    .dataframe tbody tr th:only-of-type {\n",
       "        vertical-align: middle;\n",
       "    }\n",
       "\n",
       "    .dataframe tbody tr th {\n",
       "        vertical-align: top;\n",
       "    }\n",
       "\n",
       "    .dataframe thead th {\n",
       "        text-align: right;\n",
       "    }\n",
       "</style>\n",
       "<table border=\"1\" class=\"dataframe\">\n",
       "  <thead>\n",
       "    <tr style=\"text-align: right;\">\n",
       "      <th></th>\n",
       "      <th>DateTime</th>\n",
       "      <th>DRREDDY - Trendlyne Momentum Score</th>\n",
       "      <th>DRREDDY - Trendlyne Valuation Score</th>\n",
       "    </tr>\n",
       "  </thead>\n",
       "  <tbody>\n",
       "    <tr>\n",
       "      <th>0</th>\n",
       "      <td>03-06-2014</td>\n",
       "      <td>48.44</td>\n",
       "      <td>NaN</td>\n",
       "    </tr>\n",
       "    <tr>\n",
       "      <th>1</th>\n",
       "      <td>04-06-2014</td>\n",
       "      <td>47.29</td>\n",
       "      <td>NaN</td>\n",
       "    </tr>\n",
       "    <tr>\n",
       "      <th>2</th>\n",
       "      <td>05-06-2014</td>\n",
       "      <td>47.18</td>\n",
       "      <td>NaN</td>\n",
       "    </tr>\n",
       "    <tr>\n",
       "      <th>3</th>\n",
       "      <td>06-06-2014</td>\n",
       "      <td>45.37</td>\n",
       "      <td>21.17</td>\n",
       "    </tr>\n",
       "    <tr>\n",
       "      <th>4</th>\n",
       "      <td>09-06-2014</td>\n",
       "      <td>45.45</td>\n",
       "      <td>NaN</td>\n",
       "    </tr>\n",
       "    <tr>\n",
       "      <th>...</th>\n",
       "      <td>...</td>\n",
       "      <td>...</td>\n",
       "      <td>...</td>\n",
       "    </tr>\n",
       "    <tr>\n",
       "      <th>2464</th>\n",
       "      <td>27-05-2024</td>\n",
       "      <td>46.48</td>\n",
       "      <td>48.50</td>\n",
       "    </tr>\n",
       "    <tr>\n",
       "      <th>2465</th>\n",
       "      <td>28-05-2024</td>\n",
       "      <td>54.46</td>\n",
       "      <td>47.83</td>\n",
       "    </tr>\n",
       "    <tr>\n",
       "      <th>2466</th>\n",
       "      <td>29-05-2024</td>\n",
       "      <td>52.94</td>\n",
       "      <td>47.33</td>\n",
       "    </tr>\n",
       "    <tr>\n",
       "      <th>2467</th>\n",
       "      <td>30-05-2024</td>\n",
       "      <td>52.33</td>\n",
       "      <td>47.83</td>\n",
       "    </tr>\n",
       "    <tr>\n",
       "      <th>2468</th>\n",
       "      <td>31-05-2024</td>\n",
       "      <td>52.66</td>\n",
       "      <td>48.83</td>\n",
       "    </tr>\n",
       "  </tbody>\n",
       "</table>\n",
       "<p>2469 rows × 3 columns</p>\n",
       "</div>"
      ],
      "text/plain": [
       "        DateTime  DRREDDY - Trendlyne Momentum Score  \\\n",
       "0     03-06-2014                               48.44   \n",
       "1     04-06-2014                               47.29   \n",
       "2     05-06-2014                               47.18   \n",
       "3     06-06-2014                               45.37   \n",
       "4     09-06-2014                               45.45   \n",
       "...          ...                                 ...   \n",
       "2464  27-05-2024                               46.48   \n",
       "2465  28-05-2024                               54.46   \n",
       "2466  29-05-2024                               52.94   \n",
       "2467  30-05-2024                               52.33   \n",
       "2468  31-05-2024                               52.66   \n",
       "\n",
       "      DRREDDY - Trendlyne Valuation Score  \n",
       "0                                     NaN  \n",
       "1                                     NaN  \n",
       "2                                     NaN  \n",
       "3                                   21.17  \n",
       "4                                     NaN  \n",
       "...                                   ...  \n",
       "2464                                48.50  \n",
       "2465                                47.83  \n",
       "2466                                47.33  \n",
       "2467                                47.83  \n",
       "2468                                48.83  \n",
       "\n",
       "[2469 rows x 3 columns]"
      ]
     },
     "execution_count": 12,
     "metadata": {},
     "output_type": "execute_result"
    }
   ],
   "source": [
    "tdf=pd.read_csv(fr'C:\\Users\\acer\\Desktop\\Py-Fin\\Fin_data\\Fin_data\\Data\\Merged Scores\\{cname}.csv')"
   ]
  },
  {
   "cell_type": "code",
   "execution_count": 17,
   "metadata": {},
   "outputs": [],
   "source": [
    "def scr_retrival(cname,dlist,date_format='%d-%m-%Y'):\n",
    "    \n",
    "    \n",
    "    \n",
    "    '''\n",
    "    This function retrieves the data for scores from the merged and make sure the Data integrity is intact.\n",
    "    It matched dates and all\n",
    "    \n",
    "    \n",
    "    \n",
    "    '''\n",
    "    \n",
    "    try:\n",
    "        x2df=pd.read_csv(fr'C:\\Users\\acer\\Desktop\\Py-Fin\\Fin_data\\Fin_data\\Data\\Merged Scores\\{cname}.csv')\n",
    "        # x2df=pd.read_csv(f'Data\\Merged Scores\\{cname}.csv')\n",
    "        # print(x2df)\n",
    "        print(\"Ran till here\")\n",
    "        x2df['DateTime'] = pd.to_datetime(x2df['DateTime'], format=date_format)\n",
    "\n",
    "        dlist = pd.to_datetime(dlist, format=date_format)\n",
    "        \n",
    "        dates_df = pd.DataFrame(dlist, columns=['DateTime'])\n",
    "\n",
    "        # Merge the dates_df with x2df to ensure all dates from dlist are included\n",
    "        filtered_df = pd.merge(dates_df, x2df, on='DateTime', how='left')\n",
    "        filtered_df['DateTime'] = filtered_df['DateTime'].dt.strftime(date_format)\n",
    "        # filtered_df = x2df[x2df['DateTime'].isin(dlist)]\n",
    "        filtered_df=filtered_df.iloc[:,1:]\n",
    "        return filtered_df\n",
    "\n",
    "    except Exception as e: \n",
    "        print(f'Issue in finding {cname} merged file.\\n Reason Being -> {e}')\n",
    "        return None"
   ]
  },
  {
   "cell_type": "code",
   "execution_count": 18,
   "metadata": {},
   "outputs": [],
   "source": [
    "dlis=df['Dates']"
   ]
  },
  {
   "cell_type": "code",
   "execution_count": 19,
   "metadata": {},
   "outputs": [
    {
     "name": "stdout",
     "output_type": "stream",
     "text": [
      "Ran till here\n",
      "Issue in finding DRREDDY merged file.\n",
      " Reason Being -> time data \"2023-07-03\" doesn't match format \"%d-%m-%Y\", at position 0. You might want to try:\n",
      "    - passing `format` if your strings have a consistent format;\n",
      "    - passing `format='ISO8601'` if your strings are all ISO8601 but not necessarily in exactly the same format;\n",
      "    - passing `format='mixed'`, and the format will be inferred for each element individually. You might want to use `dayfirst` alongside this.\n"
     ]
    }
   ],
   "source": [
    "findf=scr_retrival(cname,dlis)"
   ]
  },
  {
   "cell_type": "code",
   "execution_count": null,
   "metadata": {},
   "outputs": [],
   "source": []
  }
 ],
 "metadata": {
  "kernelspec": {
   "display_name": "Python 3",
   "language": "python",
   "name": "python3"
  },
  "language_info": {
   "codemirror_mode": {
    "name": "ipython",
    "version": 3
   },
   "file_extension": ".py",
   "mimetype": "text/x-python",
   "name": "python",
   "nbconvert_exporter": "python",
   "pygments_lexer": "ipython3",
   "version": "3.11.4"
  }
 },
 "nbformat": 4,
 "nbformat_minor": 2
}
